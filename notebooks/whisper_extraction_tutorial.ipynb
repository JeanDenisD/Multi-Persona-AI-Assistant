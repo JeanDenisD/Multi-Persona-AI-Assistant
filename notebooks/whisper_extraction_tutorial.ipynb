{
 "cells": [
  {
   "cell_type": "markdown",
   "id": "63e6aa68",
   "metadata": {},
   "source": [
    "# Whisper YouTube Transcript Extractor - Step by Step\n",
    "# Run each cell individually to understand what's happening"
   ]
  },
  {
   "cell_type": "code",
   "execution_count": 13,
   "id": "4f21670d",
   "metadata": {},
   "outputs": [
    {
     "name": "stdout",
     "output_type": "stream",
     "text": [
      "✅ All libraries imported successfully!\n",
      "📦 Whisper version: 20240930\n"
     ]
    }
   ],
   "source": [
    "# ============================================================================\n",
    "# CELL 1: Import Required Libraries\n",
    "# ============================================================================\n",
    "\n",
    "import whisper\n",
    "import yt_dlp\n",
    "import os\n",
    "import json\n",
    "import tempfile\n",
    "from pathlib import Path\n",
    "import pandas as pd\n",
    "\n",
    "print(\"✅ All libraries imported successfully!\")\n",
    "print(\"📦 Whisper version:\", whisper.__version__ if hasattr(whisper, '__version__') else \"Available\")"
   ]
  },
  {
   "cell_type": "code",
   "execution_count": 14,
   "id": "73acd0d0",
   "metadata": {},
   "outputs": [
    {
     "name": "stdout",
     "output_type": "stream",
     "text": [
      "🎬 Test video: https://www.youtube.com/watch?v=5-5Mf_L0UKw\n",
      "📍 Video ID: 5-5Mf_L0UKw\n"
     ]
    }
   ],
   "source": [
    "# ============================================================================\n",
    "# CELL 2: Test Video Configuration\n",
    "# ============================================================================\n",
    "\n",
    "# Test with the NetworkChuck video that worked before\n",
    "TEST_VIDEO_URL = \"https://www.youtube.com/watch?v=5-5Mf_L0UKw\"  # Python If/Else video\n",
    "VIDEO_ID = \"5-5Mf_L0UKw\"\n",
    "\n",
    "print(f\"🎬 Test video: {TEST_VIDEO_URL}\")\n",
    "print(f\"📍 Video ID: {VIDEO_ID}\")"
   ]
  },
  {
   "cell_type": "code",
   "execution_count": 15,
   "id": "6b31d141",
   "metadata": {},
   "outputs": [
    {
     "name": "stdout",
     "output_type": "stream",
     "text": [
      "📁 Cache directory: ..\\data\\test\\transcript_cache\n",
      "📁 CSV directory: ..\\data\\test\\transcripts_csv\n",
      "✅ Directories ready!\n"
     ]
    }
   ],
   "source": [
    "# ============================================================================\n",
    "# CELL 3: Setup Directories\n",
    "# ============================================================================\n",
    "\n",
    "# Create directories for our outputs\n",
    "CACHE_DIR = Path(\"../data/test/transcript_cache\")\n",
    "CSV_DIR = Path(\"../data/test/transcripts_csv\")\n",
    "\n",
    "# Create directories if they don't exist\n",
    "CACHE_DIR.mkdir(parents=True, exist_ok=True)\n",
    "CSV_DIR.mkdir(parents=True, exist_ok=True)\n",
    "\n",
    "print(f\"📁 Cache directory: {CACHE_DIR}\")\n",
    "print(f\"📁 CSV directory: {CSV_DIR}\")\n",
    "print(f\"✅ Directories ready!\")"
   ]
  },
  {
   "cell_type": "code",
   "execution_count": 16,
   "id": "5c383fba",
   "metadata": {},
   "outputs": [
    {
     "name": "stdout",
     "output_type": "stream",
     "text": [
      "🎤 Loading Whisper model...\n",
      "⏳ This might take a moment the first time...\n"
     ]
    },
    {
     "name": "stderr",
     "output_type": "stream",
     "text": [
      "100%|███████████████████████████████████████| 461M/461M [00:42<00:00, 11.5MiB/s]\n"
     ]
    },
    {
     "name": "stdout",
     "output_type": "stream",
     "text": [
      "✅ Whisper model loaded successfully!\n",
      "📊 Model type: tiny (fast but less accurate)\n",
      "💡 You can change to 'base', 'small', 'medium', or 'large' for better quality\n"
     ]
    }
   ],
   "source": [
    "# ============================================================================\n",
    "# CELL 4: Initialize Whisper Model\n",
    "# ============================================================================\n",
    "\n",
    "print(\"🎤 Loading Whisper model...\")\n",
    "print(\"⏳ This might take a moment the first time...\")\n",
    "\n",
    "# Load Whisper model (start with 'tiny' for speed)\n",
    "model = whisper.load_model(\"small\")\n",
    "\n",
    "print(\"✅ Whisper model loaded successfully!\")\n",
    "print(f\"📊 Model type: tiny (fast but less accurate)\")\n",
    "print(\"💡 You can change to 'base', 'small', 'medium', or 'large' for better quality\")"
   ]
  },
  {
   "cell_type": "code",
   "execution_count": 17,
   "id": "b0233827",
   "metadata": {},
   "outputs": [
    {
     "name": "stdout",
     "output_type": "stream",
     "text": [
      "📱 Getting video information for: https://www.youtube.com/watch?v=5-5Mf_L0UKw\n",
      "✅ Video information retrieved!\n",
      "🎬 Title: If Else Statements in Python // Python RIGHT NOW!! // EP 4\n",
      "👤 Uploader: NetworkChuck\n",
      "⏱️ Duration: 859 seconds\n",
      "📅 Upload date: 20220207\n"
     ]
    }
   ],
   "source": [
    "# ============================================================================\n",
    "# CELL 5: Get Video Information\n",
    "# ============================================================================\n",
    "\n",
    "print(f\"📱 Getting video information for: {TEST_VIDEO_URL}\")\n",
    "\n",
    "# Configure yt-dlp to get video info only\n",
    "ydl_opts = {\n",
    "    'quiet': True,\n",
    "    'no_warnings': True,\n",
    "}\n",
    "\n",
    "try:\n",
    "    with yt_dlp.YoutubeDL(ydl_opts) as ydl:\n",
    "        video_info = ydl.extract_info(TEST_VIDEO_URL, download=False)\n",
    "    \n",
    "    print(\"✅ Video information retrieved!\")\n",
    "    print(f\"🎬 Title: {video_info.get('title', 'Unknown')}\")\n",
    "    print(f\"👤 Uploader: {video_info.get('uploader', 'Unknown')}\")\n",
    "    print(f\"⏱️ Duration: {video_info.get('duration', 0)} seconds\")\n",
    "    print(f\"📅 Upload date: {video_info.get('upload_date', 'Unknown')}\")\n",
    "    \n",
    "except Exception as e:\n",
    "    print(f\"❌ Error getting video info: {e}\")\n",
    "    video_info = None"
   ]
  },
  {
   "cell_type": "code",
   "execution_count": 18,
   "id": "d42a4e0f",
   "metadata": {},
   "outputs": [
    {
     "name": "stdout",
     "output_type": "stream",
     "text": [
      "📥 Downloading audio...\n",
      "⏳ This will take a moment depending on video length...\n",
      "[youtube] Extracting URL: https://www.youtube.com/watch?v=5-5Mf_L0UKw\n",
      "[youtube] 5-5Mf_L0UKw: Downloading webpage\n",
      "[youtube] 5-5Mf_L0UKw: Downloading tv client config\n",
      "[youtube] 5-5Mf_L0UKw: Downloading tv player API JSON\n",
      "[youtube] 5-5Mf_L0UKw: Downloading ios player API JSON\n",
      "[youtube] 5-5Mf_L0UKw: Downloading m3u8 information\n",
      "[info] 5-5Mf_L0UKw: Downloading 1 format(s): 251\n",
      "[download] Destination: C:\\Users\\jeand\\AppData\\Local\\Temp\\tmp6yjflt3u\\5-5Mf_L0UKw.webm\n",
      "[download] 100% of   11.98MiB in 00:00:01 at 7.95MiB/s     \n",
      "✅ Audio downloaded successfully!\n",
      "📁 File: C:\\Users\\jeand\\AppData\\Local\\Temp\\tmp6yjflt3u\\5-5Mf_L0UKw.webm\n",
      "📊 Size: 12.0 MB\n"
     ]
    }
   ],
   "source": [
    "# ============================================================================\n",
    "# CELL 6: Download Audio\n",
    "# ============================================================================\n",
    "\n",
    "print(\"📥 Downloading audio...\")\n",
    "print(\"⏳ This will take a moment depending on video length...\")\n",
    "\n",
    "# Create temporary directory for audio\n",
    "temp_dir = tempfile.mkdtemp()\n",
    "audio_file = None\n",
    "\n",
    "try:\n",
    "    # Configure yt-dlp for audio download\n",
    "    audio_opts = {\n",
    "        'format': 'bestaudio[ext=webm]/bestaudio/best',\n",
    "        'outtmpl': os.path.join(temp_dir, f'{VIDEO_ID}.%(ext)s'),\n",
    "        'quiet': False,  # Show download progress\n",
    "        'no_warnings': False,\n",
    "    }\n",
    "    \n",
    "    with yt_dlp.YoutubeDL(audio_opts) as ydl:\n",
    "        ydl.download([TEST_VIDEO_URL])\n",
    "    \n",
    "    # Find the downloaded audio file\n",
    "    for ext in ['webm', 'm4a', 'mp4', 'wav', 'mp3']:\n",
    "        potential_file = os.path.join(temp_dir, f'{VIDEO_ID}.{ext}')\n",
    "        if os.path.exists(potential_file):\n",
    "            audio_file = potential_file\n",
    "            break\n",
    "    \n",
    "    if audio_file:\n",
    "        file_size = os.path.getsize(audio_file) / (1024 * 1024)  # Size in MB\n",
    "        print(f\"✅ Audio downloaded successfully!\")\n",
    "        print(f\"📁 File: {audio_file}\")\n",
    "        print(f\"📊 Size: {file_size:.1f} MB\")\n",
    "    else:\n",
    "        print(\"❌ No audio file found after download\")\n",
    "        \n",
    "except Exception as e:\n",
    "    print(f\"❌ Error downloading audio: {e}\")"
   ]
  },
  {
   "cell_type": "code",
   "execution_count": 19,
   "id": "9ae47671",
   "metadata": {},
   "outputs": [
    {
     "name": "stdout",
     "output_type": "stream",
     "text": [
      "🎤 Starting Whisper transcription...\n",
      "⏳ This will take a few minutes...\n"
     ]
    },
    {
     "name": "stderr",
     "output_type": "stream",
     "text": [
      "\\\\kickpush-nas\\Ironhack\\Final project\\networkchuck-ai-chatbot-assistant\\ai-chatbot-env\\lib\\site-packages\\whisper\\transcribe.py:126: UserWarning: FP16 is not supported on CPU; using FP32 instead\n",
      "  warnings.warn(\"FP16 is not supported on CPU; using FP32 instead\")\n"
     ]
    },
    {
     "name": "stdout",
     "output_type": "stream",
     "text": [
      "✅ Transcription completed!\n",
      "🗣️ Detected language: en\n",
      "📝 Number of segments: 260\n",
      "\n",
      "📄 Preview (first 3 segments):\n",
      "--------------------------------------------------\n",
      "[000.00 - 003.90] We're about to use one of the most powerful and fun concepts in Python.\n",
      "[003.94 - 006.94] And we're going to use that power to prevent Ben, evil Ben\n",
      "[008.54 - 012.10] from entering our coffee shop because we don't want Ben here. Get out of here, Ben.\n",
      "... and 257 more segments\n"
     ]
    }
   ],
   "source": [
    "# ============================================================================\n",
    "# CELL 7: Transcribe with Whisper\n",
    "# ============================================================================\n",
    "\n",
    "if audio_file and os.path.exists(audio_file):\n",
    "    print(\"🎤 Starting Whisper transcription...\")\n",
    "    print(\"⏳ This will take a few minutes...\")\n",
    "    \n",
    "    try:\n",
    "        # Transcribe the audio\n",
    "        result = model.transcribe(audio_file)\n",
    "        \n",
    "        print(\"✅ Transcription completed!\")\n",
    "        print(f\"🗣️ Detected language: {result['language']}\")\n",
    "        print(f\"📝 Number of segments: {len(result['segments'])}\")\n",
    "        \n",
    "        # Show first few segments as preview\n",
    "        print(\"\\n📄 Preview (first 3 segments):\")\n",
    "        print(\"-\" * 50)\n",
    "        for i, segment in enumerate(result['segments'][:3]):\n",
    "            start = segment['start']\n",
    "            end = segment['end']\n",
    "            text = segment['text'].strip()\n",
    "            print(f\"[{start:06.2f} - {end:06.2f}] {text}\")\n",
    "        \n",
    "        if len(result['segments']) > 3:\n",
    "            print(f\"... and {len(result['segments']) - 3} more segments\")\n",
    "            \n",
    "    except Exception as e:\n",
    "        print(f\"❌ Error during transcription: {e}\")\n",
    "        result = None\n",
    "else:\n",
    "    print(\"❌ No audio file available for transcription\")\n",
    "    result = None"
   ]
  },
  {
   "cell_type": "code",
   "execution_count": 20,
   "id": "de3e2995",
   "metadata": {},
   "outputs": [
    {
     "name": "stdout",
     "output_type": "stream",
     "text": [
      "✅ Transcript saved to JSON!\n",
      "📁 File: ..\\data\\test\\transcript_cache\\5-5Mf_L0UKw.json\n",
      "📊 File size: 362.1 KB\n"
     ]
    }
   ],
   "source": [
    "# ============================================================================\n",
    "# CELL 8: Save Transcript as JSON\n",
    "# ============================================================================\n",
    "\n",
    "if result:\n",
    "    # Prepare transcript data\n",
    "    transcript_data = {\n",
    "        'video_id': VIDEO_ID,\n",
    "        'video_url': TEST_VIDEO_URL,\n",
    "        'video_info': {\n",
    "            'title': video_info.get('title', 'Unknown') if video_info else 'Unknown',\n",
    "            'uploader': video_info.get('uploader', 'Unknown') if video_info else 'Unknown',\n",
    "            'duration': video_info.get('duration', 0) if video_info else 0,\n",
    "            'upload_date': video_info.get('upload_date', 'Unknown') if video_info else 'Unknown',\n",
    "        },\n",
    "        'whisper_result': result,\n",
    "        'language': result['language'],\n",
    "        'segments': result['segments'],\n",
    "        'full_text': result['text']\n",
    "    }\n",
    "    \n",
    "    # Save to JSON file\n",
    "    json_file = CACHE_DIR / f\"{VIDEO_ID}.json\"\n",
    "    \n",
    "    try:\n",
    "        with open(json_file, 'w', encoding='utf-8') as f:\n",
    "            json.dump(transcript_data, f, indent=2, ensure_ascii=False)\n",
    "        \n",
    "        print(f\"✅ Transcript saved to JSON!\")\n",
    "        print(f\"📁 File: {json_file}\")\n",
    "        print(f\"📊 File size: {os.path.getsize(json_file) / 1024:.1f} KB\")\n",
    "        \n",
    "    except Exception as e:\n",
    "        print(f\"❌ Error saving JSON: {e}\")"
   ]
  },
  {
   "cell_type": "code",
   "execution_count": 21,
   "id": "1f178122",
   "metadata": {},
   "outputs": [
    {
     "name": "stdout",
     "output_type": "stream",
     "text": [
      "🔍 Loading and inspecting saved JSON file...\n",
      "✅ JSON file loaded successfully!\n",
      "\n",
      "📊 JSON Structure:\n",
      "------------------------------\n",
      "🏷️ video_id: str\n",
      "🏷️ video_url: str\n",
      "🏷️ video_info: dict\n",
      "🏷️ whisper_result: dict\n",
      "🏷️ language: str\n",
      "📝 segments: 260 items\n",
      "📄 full_text: 16009 characters\n",
      "\n",
      "🎬 Video Information:\n",
      "   Title: If Else Statements in Python // Python RIGHT NOW!! // EP 4\n",
      "   Duration: 859 seconds\n",
      "   Language: en\n",
      "\n",
      "📄 Full Text Preview (first 200 characters):\n",
      "' We're about to use one of the most powerful and fun concepts in Python. And we're going to use that power to prevent Ben, evil Ben from entering our coffee shop because we don't want Ben here. Get ou...'\n"
     ]
    }
   ],
   "source": [
    "# ============================================================================\n",
    "# CELL 9: Load and Inspect JSON File\n",
    "# ============================================================================\n",
    "\n",
    "# Load the JSON file we just created\n",
    "json_file = CACHE_DIR / f\"{VIDEO_ID}.json\"\n",
    "\n",
    "if json_file.exists():\n",
    "    print(\"🔍 Loading and inspecting saved JSON file...\")\n",
    "    \n",
    "    with open(json_file, 'r', encoding='utf-8') as f:\n",
    "        loaded_data = json.load(f)\n",
    "    \n",
    "    print(\"✅ JSON file loaded successfully!\")\n",
    "    print(\"\\n📊 JSON Structure:\")\n",
    "    print(\"-\" * 30)\n",
    "    for key in loaded_data.keys():\n",
    "        if key == 'segments':\n",
    "            print(f\"📝 {key}: {len(loaded_data[key])} items\")\n",
    "        elif key == 'full_text':\n",
    "            print(f\"📄 {key}: {len(loaded_data[key])} characters\")\n",
    "        else:\n",
    "            print(f\"🏷️ {key}: {type(loaded_data[key]).__name__}\")\n",
    "    \n",
    "    # Show video info\n",
    "    print(f\"\\n🎬 Video Information:\")\n",
    "    print(f\"   Title: {loaded_data['video_info']['title']}\")\n",
    "    print(f\"   Duration: {loaded_data['video_info']['duration']} seconds\")\n",
    "    print(f\"   Language: {loaded_data['language']}\")\n",
    "    \n",
    "    # Show text preview\n",
    "    full_text = loaded_data['full_text']\n",
    "    print(f\"\\n📄 Full Text Preview (first 200 characters):\")\n",
    "    print(f\"'{full_text[:200]}...'\")\n",
    "    \n",
    "else:\n",
    "    print(\"❌ JSON file not found!\")"
   ]
  },
  {
   "cell_type": "code",
   "execution_count": 22,
   "id": "2fa10445",
   "metadata": {},
   "outputs": [
    {
     "name": "stdout",
     "output_type": "stream",
     "text": [
      "📊 Converting to CSV format...\n",
      "✅ CSV file created!\n",
      "📁 File: ..\\data\\test\\transcripts_csv\\transcript_5-5Mf_L0UKw.csv\n",
      "📊 Rows: 260\n",
      "\n",
      "📄 CSV Preview (first 3 rows):\n",
      "   start_time  end_time                                                                                 text\n",
      "0        0.00      3.90              We're about to use one of the most powerful and fun concepts in Python.\n",
      "1        3.94      6.94                           And we're going to use that power to prevent Ben, evil Ben\n",
      "2        8.54     12.10  from entering our coffee shop because we don't want Ben here. Get out of here, Ben.\n"
     ]
    }
   ],
   "source": [
    "# ============================================================================\n",
    "# CELL 10: Convert to CSV Format\n",
    "# ============================================================================\n",
    "\n",
    "if json_file.exists():\n",
    "    print(\"📊 Converting to CSV format...\")\n",
    "    \n",
    "    # Create DataFrame from segments\n",
    "    segments_data = []\n",
    "    for i, segment in enumerate(loaded_data['segments']):\n",
    "        segments_data.append({\n",
    "            'segment_id': i,\n",
    "            'start_time': segment['start'],\n",
    "            'end_time': segment['end'],\n",
    "            'duration': segment['end'] - segment['start'],\n",
    "            'text': segment['text'].strip(),\n",
    "            'video_id': loaded_data['video_id'],\n",
    "            'video_title': loaded_data['video_info']['title'],\n",
    "            'video_url': loaded_data['video_url']\n",
    "        })\n",
    "    \n",
    "    # Create DataFrame\n",
    "    df = pd.DataFrame(segments_data)\n",
    "    \n",
    "    # Save to CSV\n",
    "    csv_file = CSV_DIR / f\"transcript_{VIDEO_ID}.csv\"\n",
    "    df.to_csv(csv_file, index=False, encoding='utf-8')\n",
    "    \n",
    "    print(f\"✅ CSV file created!\")\n",
    "    print(f\"📁 File: {csv_file}\")\n",
    "    print(f\"📊 Rows: {len(df)}\")\n",
    "    \n",
    "    # Show preview of CSV\n",
    "    print(f\"\\n📄 CSV Preview (first 3 rows):\")\n",
    "    print(df.head(3)[['start_time', 'end_time', 'text']].to_string())"
   ]
  },
  {
   "cell_type": "code",
   "execution_count": 23,
   "id": "05360be6",
   "metadata": {},
   "outputs": [
    {
     "name": "stdout",
     "output_type": "stream",
     "text": [
      "🗑️ Temporary audio file cleaned up\n",
      "\n",
      "🎉 Complete! You now have:\n",
      "   📄 JSON transcript: ..\\data\\test\\transcript_cache/5-5Mf_L0UKw.json\n",
      "   📊 CSV transcript: ..\\data\\test\\transcripts_csv/transcript_5-5Mf_L0UKw.csv\n"
     ]
    }
   ],
   "source": [
    "# ============================================================================\n",
    "# CELL 11: Cleanup Temporary Files\n",
    "# ============================================================================\n",
    "\n",
    "# Clean up the temporary audio file\n",
    "if audio_file and os.path.exists(audio_file):\n",
    "    try:\n",
    "        os.remove(audio_file)\n",
    "        os.rmdir(temp_dir)\n",
    "        print(\"🗑️ Temporary audio file cleaned up\")\n",
    "    except:\n",
    "        print(\"⚠️ Could not clean up temporary files\")\n",
    "\n",
    "print(\"\\n🎉 Complete! You now have:\")\n",
    "print(f\"   📄 JSON transcript: {CACHE_DIR}/{VIDEO_ID}.json\")\n",
    "print(f\"   📊 CSV transcript: {CSV_DIR}/transcript_{VIDEO_ID}.csv\")"
   ]
  },
  {
   "cell_type": "code",
   "execution_count": 24,
   "id": "8c2d51ef",
   "metadata": {},
   "outputs": [
    {
     "name": "stdout",
     "output_type": "stream",
     "text": [
      "\n",
      "🎯 SUMMARY:\n",
      "==================================================\n",
      "✅ Whisper successfully extracted transcript\n",
      "✅ Saved in both JSON and CSV formats\n",
      "✅ Ready to process more videos!\n",
      "\n",
      "🚀 NEXT STEPS:\n",
      "1. 🔍 Examine the JSON and CSV files\n",
      "2. 📹 Add more NetworkChuck video URLs\n",
      "3. 🔄 Create batch processing script\n",
      "4. 🤖 Build the AI chatbot with embeddings\n",
      "\n",
      "💡 TIP: You can now modify the VIDEO_URL and re-run cells 5-11 to process different videos!\n"
     ]
    }
   ],
   "source": [
    "# ============================================================================\n",
    "# CELL 12: Summary and Next Steps\n",
    "# ============================================================================\n",
    "\n",
    "print(\"\\n🎯 SUMMARY:\")\n",
    "print(\"=\"*50)\n",
    "print(\"✅ Whisper successfully extracted transcript\")\n",
    "print(\"✅ Saved in both JSON and CSV formats\")\n",
    "print(\"✅ Ready to process more videos!\")\n",
    "\n",
    "print(\"\\n🚀 NEXT STEPS:\")\n",
    "print(\"1. 🔍 Examine the JSON and CSV files\")\n",
    "print(\"2. 📹 Add more NetworkChuck video URLs\")\n",
    "print(\"3. 🔄 Create batch processing script\")\n",
    "print(\"4. 🤖 Build the AI chatbot with embeddings\")\n",
    "\n",
    "print(\"\\n💡 TIP: You can now modify the VIDEO_URL and re-run cells 5-11 to process different videos!\")"
   ]
  }
 ],
 "metadata": {
  "kernelspec": {
   "display_name": "ai-chatbot-env",
   "language": "python",
   "name": "python3"
  },
  "language_info": {
   "codemirror_mode": {
    "name": "ipython",
    "version": 3
   },
   "file_extension": ".py",
   "mimetype": "text/x-python",
   "name": "python",
   "nbconvert_exporter": "python",
   "pygments_lexer": "ipython3",
   "version": "3.10.11"
  }
 },
 "nbformat": 4,
 "nbformat_minor": 5
}
